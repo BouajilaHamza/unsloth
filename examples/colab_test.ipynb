{
 "cells": [
  {
   "cell_type": "code",
   "execution_count": null,
   "metadata": {},
   "outputs": [],
   "source": [
    "!pip install triton\n",
    "!git clone https://github.com/yourusername/unsloth.git\n",
    "!cd unsloth && pip install -e ."
   ]
  },
  {
   "cell_type": "code",
   "execution_count": null,
   "metadata": {},
   "outputs": [],
   "source": [
    "import sys\n",
    "sys.path.append('unsloth')\n",
    "from tests.test_dynamic_tanh import test_dynamic_tanh\n",
    "\n",
    "test_dynamic_tanh()"
   ]
  }
 ],
 "metadata": {
  "language_info": {
   "name": "python"
  }
 },
 "nbformat": 4,
 "nbformat_minor": 2
}
